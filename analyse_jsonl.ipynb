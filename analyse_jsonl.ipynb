{
 "cells": [
  {
   "cell_type": "code",
   "execution_count": null,
   "id": "bcf76a3e-c81d-4fec-9ac7-b03ef1b40d3f",
   "metadata": {},
   "outputs": [],
   "source": [
    "import json\n",
    "import pandas"
   ]
  },
  {
   "cell_type": "code",
   "execution_count": null,
   "id": "e0ffd8ab-8ba1-4ffa-8700-2a20bb1d9c3c",
   "metadata": {},
   "outputs": [],
   "source": [
    "# Chemin vers le fichier JSONL\n",
    "filename = '/home/onyxia/work/openfoodfacts-products.jsonl'"
   ]
  },
  {
   "cell_type": "code",
   "execution_count": null,
   "id": "4361dac8-7bfe-4616-aa15-d2b9415a0d06",
   "metadata": {},
   "outputs": [],
   "source": [
    "def pretty_print_first_lines(filename, num_lines=3):\n",
    "    with open(filename, 'r') as file:\n",
    "        for i, line in enumerate(file):\n",
    "            if i >= num_lines:\n",
    "                break\n",
    "\n",
    "            # Charger la ligne JSON\n",
    "            data = json.loads(line)\n",
    "\n",
    "            # Afficher le dictionnaire formaté\n",
    "            print(json.dumps(data, indent=4))"
   ]
  },
  {
   "cell_type": "code",
   "execution_count": null,
   "id": "a0969e47-c37f-426b-b80b-9b9d5912a878",
   "metadata": {},
   "outputs": [],
   "source": [
    "# Afficher les 3 premières lignes de manière jolie\n",
    "pretty_print_first_lines(filename)"
   ]
  },
  {
   "cell_type": "code",
   "execution_count": 6,
   "id": "f0840671-3285-49cd-ae4c-cacf6633ab90",
   "metadata": {},
   "outputs": [],
   "source": [
    "def extract_lines_with_code(filename, code_value):\n",
    "    \n",
    "    lines_with_code = []\n",
    "\n",
    "    with open(filename, 'r') as file:\n",
    "        for line in file:\n",
    "            # Charger la ligne JSON\n",
    "            data = json.loads(line)\n",
    "\n",
    "            # Vérifier si le champ \"code\" a la valeur spécifiée\n",
    "            if data.get('code') == code_value:\n",
    "                lines_with_code.append(data)\n",
    "\n",
    "    return lines_with_code"
   ]
  },
  {
   "cell_type": "code",
   "execution_count": null,
   "id": "0dfa6ab7-398e-4d68-9088-de3ef221be8a",
   "metadata": {},
   "outputs": [],
   "source": [
    "# Valeur du champ \"code\" à rechercher\n",
    "code_value = \"3272770005708\"\n",
    "\n",
    "# Extraction des lignes avec le champ \"code\" égal à la valeur spécifiée\n",
    "lines_with_code = extract_lines_with_code(\n",
    "    filename, \n",
    "    code_value\n",
    ")\n",
    "\n",
    "# Conversion en DataFrame pandas\n",
    "df = pandas.DataFrame(lines_with_code)\n",
    "\n",
    "# Affichage du DataFrame\n",
    "print(df)"
   ]
  },
  {
   "cell_type": "code",
   "execution_count": null,
   "id": "706f3e55-3c49-4fd0-9cf2-1671cf935990",
   "metadata": {},
   "outputs": [],
   "source": [
    "def find_line_with_code(filename, code_value):\n",
    "    with open(filename, 'r') as file:\n",
    "        for line in file:\n",
    "            # Charger la ligne JSON\n",
    "            data = json.loads(line)\n",
    "\n",
    "            # Vérifier si le champ \"code\" a la valeur spécifiée\n",
    "            if data.get('code') == code_value:\n",
    "                return data  # Retourner la ligne trouvée\n",
    "            elif data.get('code') > code_value:\n",
    "                break  # Arrêter la recherche si le code actuel dépasse la valeur recherchée\n",
    "\n",
    "    return None  # Retourner None si aucune ligne avec le code spécifié n'est trouvée"
   ]
  },
  {
   "cell_type": "code",
   "execution_count": null,
   "id": "af19d2eb-7104-4450-971a-983641cf1ac2",
   "metadata": {},
   "outputs": [],
   "source": [
    "# Valeur du champ \"code\" à rechercher\n",
    "code_value = \"3272770005708\"\n",
    "\n",
    "# Récupération de la ligne avec le champ \"code\" égal à la valeur spécifiée\n",
    "line_with_code = find_line_with_code(filename, code_value)\n",
    "\n",
    "if line_with_code:\n",
    "    # Affichage de la ligne trouvée\n",
    "    print(line_with_code)\n",
    "else:\n",
    "    print(\"Aucune ligne trouvée avec le code spécifié.\")"
   ]
  },
  {
   "cell_type": "code",
   "execution_count": null,
   "id": "cbf89954-b2d3-430b-82e0-01b7ac1f4883",
   "metadata": {},
   "outputs": [],
   "source": [
    "def extract_lines_with_code_starting_with(filename, code_prefix):\n",
    "    lines_with_code = []\n",
    "\n",
    "    with open(filename, 'r') as file:\n",
    "        for line in file:\n",
    "            # Charger la ligne JSON\n",
    "            data = json.loads(line)\n",
    "\n",
    "            # Vérifier si le champ \"code\" commence par la valeur spécifiée\n",
    "            if data.get('code', '').startswith(code_prefix):\n",
    "                lines_with_code.append(data)\n",
    "\n",
    "    return lines_with_code"
   ]
  },
  {
   "cell_type": "code",
   "execution_count": null,
   "id": "047cf236-ae7a-4cfc-9a78-b626a30c4bb1",
   "metadata": {},
   "outputs": [],
   "source": [
    "# Chemin vers le fichier JSONL\n",
    "filename = 'chemin/vers/votre/fichier.jsonl'\n",
    "\n",
    "# Préfixe du champ \"code\" à rechercher\n",
    "code_prefix = \"300\"\n",
    "\n",
    "# Extraction des lignes avec le champ \"code\" commençant par le préfixe spécifié\n",
    "lines_with_code = extract_lines_with_code_starting_with(filename, code_prefix)\n",
    "\n",
    "# Conversion en DataFrame pandas\n",
    "df = pd.DataFrame(lines_with_code)\n",
    "\n",
    "# Affichage du DataFrame\n",
    "print(df)"
   ]
  }
 ],
 "metadata": {
  "kernelspec": {
   "display_name": "Python 3 (ipykernel)",
   "language": "python",
   "name": "python3"
  },
  "language_info": {
   "codemirror_mode": {
    "name": "ipython",
    "version": 3
   },
   "file_extension": ".py",
   "mimetype": "text/x-python",
   "name": "python",
   "nbconvert_exporter": "python",
   "pygments_lexer": "ipython3",
   "version": "3.12.2"
  }
 },
 "nbformat": 4,
 "nbformat_minor": 5
}
