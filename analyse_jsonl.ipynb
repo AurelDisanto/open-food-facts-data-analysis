{
 "cells": [
  {
   "cell_type": "code",
   "execution_count": null,
   "id": "bcf76a3e-c81d-4fec-9ac7-b03ef1b40d3f",
   "metadata": {},
   "outputs": [],
   "source": [
    "import json\n",
    "import pandas\n",
    "from concurrent.futures import ThreadPoolExecutor"
   ]
  },
  {
   "cell_type": "code",
   "execution_count": null,
   "id": "5ed3c57d-959b-4cff-a7ca-6754ad2e54ff",
   "metadata": {},
   "outputs": [],
   "source": [
    "pandas.set_option('display.max_colwidth', None)"
   ]
  },
  {
   "cell_type": "code",
   "execution_count": null,
   "id": "e0ffd8ab-8ba1-4ffa-8700-2a20bb1d9c3c",
   "metadata": {},
   "outputs": [],
   "source": [
    "# Chemin vers le fichier JSONL\n",
    "filename = '/home/onyxia/work/openfoodfacts-products.jsonl'"
   ]
  },
  {
   "cell_type": "code",
   "execution_count": null,
   "id": "4361dac8-7bfe-4616-aa15-d2b9415a0d06",
   "metadata": {},
   "outputs": [],
   "source": [
    "def pretty_print_first_lines(filename, num_lines=3):\n",
    "    with open(filename, 'r') as file:\n",
    "        for i, line in enumerate(file):\n",
    "            if i >= num_lines:\n",
    "                break\n",
    "\n",
    "            # Charger la ligne JSON\n",
    "            data = json.loads(line)\n",
    "\n",
    "            # Afficher le dictionnaire formaté\n",
    "            print(json.dumps(data, indent=4))"
   ]
  },
  {
   "cell_type": "code",
   "execution_count": null,
   "id": "a0969e47-c37f-426b-b80b-9b9d5912a878",
   "metadata": {},
   "outputs": [],
   "source": [
    "# Afficher les 3 premières lignes de manière jolie\n",
    "pretty_print_first_lines(filename)"
   ]
  },
  {
   "cell_type": "code",
   "execution_count": null,
   "id": "f0840671-3285-49cd-ae4c-cacf6633ab90",
   "metadata": {},
   "outputs": [],
   "source": [
    "def extract_lines_with_code(filename, code_value):\n",
    "    \n",
    "    lines_with_code = []\n",
    "\n",
    "    with open(filename, 'r') as file:\n",
    "        for line in file:\n",
    "            # Charger la ligne JSON\n",
    "            data = json.loads(line)\n",
    "\n",
    "            # Vérifier si le champ \"code\" a la valeur spécifiée\n",
    "            if data.get('code') == code_value:\n",
    "                lines_with_code.append(data)\n",
    "\n",
    "    return lines_with_code"
   ]
  },
  {
   "cell_type": "code",
   "execution_count": null,
   "id": "0dfa6ab7-398e-4d68-9088-de3ef221be8a",
   "metadata": {},
   "outputs": [],
   "source": [
    "# Valeur du champ \"code\" à rechercher\n",
    "code_value = \"3272770005708\"\n",
    "\n",
    "# Extraction des lignes avec le champ \"code\" égal à la valeur spécifiée\n",
    "lines_with_code = extract_lines_with_code(\n",
    "    filename, \n",
    "    code_value\n",
    ")\n",
    "\n",
    "# Conversion en DataFrame pandas\n",
    "df = pandas.DataFrame(lines_with_code)\n",
    "\n",
    "# Affichage du DataFrame\n",
    "print(df)"
   ]
  },
  {
   "cell_type": "code",
   "execution_count": null,
   "id": "5e1e687f-12e2-417f-9a70-3574aed71ea7",
   "metadata": {},
   "outputs": [],
   "source": [
    "df[\"ingredients\"]"
   ]
  },
  {
   "cell_type": "code",
   "execution_count": null,
   "id": "062b173d-1bf3-4bcd-8afe-90abfb73a037",
   "metadata": {},
   "outputs": [],
   "source": [
    "df[\"ingredients\"].to_string(index=False)"
   ]
  },
  {
   "cell_type": "code",
   "execution_count": null,
   "id": "7d087724-91a1-4f1c-a2f5-8417e5f57d32",
   "metadata": {},
   "outputs": [],
   "source": [
    "pretty_json_str = json.dumps(df[\"ingredients\"].to_string(index=False), indent=4)\n",
    "print(pretty_json_str)"
   ]
  },
  {
   "cell_type": "code",
   "execution_count": null,
   "id": "9751430f-d2e2-4c1c-819c-4420517a9a43",
   "metadata": {},
   "outputs": [],
   "source": [
    "filtered_data = {key: value for key, value in data.items() if key in ['code', 'ingredients']}\n",
    "\n",
    "# Afficher de manière jolie le contenu du dictionnaire filtré\n",
    "pretty_json_str = json.dumps(filtered_data, indent=4)\n",
    "print(pretty_json_str)"
   ]
  },
  {
   "cell_type": "code",
   "execution_count": null,
   "id": "941e3de1-73e6-4bb6-b7ab-9cb9b20d1153",
   "metadata": {},
   "outputs": [],
   "source": [
    "def pretty_print_json_column(df, column_name):\n",
    "    # Convertir la liste d'objets JSON en une seule chaîne JSON\n",
    "    json_str = df[column_name].apply(json.dumps)\n",
    "\n",
    "    # Transformer les données JSON en DataFrame\n",
    "    json_df = pandas.json_normalize(json_str.apply(json.loads))\n",
    "\n",
    "    # Afficher de manière jolie le contenu du DataFrame JSON\n",
    "    print(json_df.to_string(index=False))"
   ]
  },
  {
   "cell_type": "code",
   "execution_count": null,
   "id": "b5631b5c-048f-4c62-a46d-87936ac6b977",
   "metadata": {},
   "outputs": [],
   "source": [
    "pretty_print_json_column(df, 'ingredients')"
   ]
  },
  {
   "cell_type": "code",
   "execution_count": null,
   "id": "706f3e55-3c49-4fd0-9cf2-1671cf935990",
   "metadata": {},
   "outputs": [],
   "source": [
    "def find_line_with_code(filename, code_value):\n",
    "    with open(filename, 'r') as file:\n",
    "        for line in file:\n",
    "            # Charger la ligne JSON\n",
    "            data = json.loads(line)\n",
    "\n",
    "            # Vérifier si le champ \"code\" a la valeur spécifiée\n",
    "            if data.get('code') == code_value:\n",
    "                return data  # Retourner la ligne trouvée\n",
    "            elif data.get('code') > code_value:\n",
    "                break  # Arrêter la recherche si le code actuel dépasse la valeur recherchée\n",
    "\n",
    "    return None  # Retourner None si aucune ligne avec le code spécifié n'est trouvée"
   ]
  },
  {
   "cell_type": "code",
   "execution_count": null,
   "id": "af19d2eb-7104-4450-971a-983641cf1ac2",
   "metadata": {},
   "outputs": [],
   "source": [
    "# Valeur du champ \"code\" à rechercher\n",
    "code_value = \"3272770005708\"\n",
    "\n",
    "# Récupération de la ligne avec le champ \"code\" égal à la valeur spécifiée\n",
    "line_with_code = find_line_with_code(filename, code_value)\n",
    "\n",
    "if line_with_code:\n",
    "    # Affichage de la ligne trouvée\n",
    "    print(line_with_code)\n",
    "else:\n",
    "    print(\"Aucune ligne trouvée avec le code spécifié.\")"
   ]
  },
  {
   "cell_type": "code",
   "execution_count": null,
   "id": "cbf89954-b2d3-430b-82e0-01b7ac1f4883",
   "metadata": {},
   "outputs": [],
   "source": [
    "def extract_lines_with_code_starting_with(filename, code_prefix):\n",
    "    lines_with_code = []\n",
    "\n",
    "    with open(filename, 'r') as file:\n",
    "        for line in file:\n",
    "            # Charger la ligne JSON\n",
    "            data = json.loads(line)\n",
    "\n",
    "            # Vérifier si le champ \"code\" commence par la valeur spécifiée\n",
    "            if data.get('code', '').startswith(code_prefix):\n",
    "                lines_with_code.append(data)\n",
    "\n",
    "    return lines_with_code"
   ]
  },
  {
   "cell_type": "code",
   "execution_count": null,
   "id": "047cf236-ae7a-4cfc-9a78-b626a30c4bb1",
   "metadata": {},
   "outputs": [],
   "source": [
    "# Préfixe du champ \"code\" à rechercher\n",
    "code_prefix = \"300\"\n",
    "\n",
    "# Extraction des lignes avec le champ \"code\" commençant par le préfixe spécifié\n",
    "lines_with_code = extract_lines_with_code_starting_with(\n",
    "    filename, \n",
    "    code_prefix\n",
    ")\n",
    "\n",
    "# Conversion en DataFrame pandas\n",
    "df = pandas.DataFrame(lines_with_code)\n",
    "\n",
    "# Affichage du DataFrame\n",
    "print(df)"
   ]
  },
  {
   "cell_type": "code",
   "execution_count": 24,
   "id": "75f2a665-f241-4599-a51b-c451d322009e",
   "metadata": {},
   "outputs": [],
   "source": [
    "def extract_lines_with_code_range(filename, start_code, end_code):\n",
    "    lines_with_code = []\n",
    "\n",
    "    with open(filename, 'r') as file:\n",
    "        for line in file:\n",
    "            # Charger la ligne JSON\n",
    "            data = json.loads(line)\n",
    "\n",
    "            # Récupérer les trois premiers caractères du champ \"code\"\n",
    "            code_prefix = str(data.get('code', ''))[:3]\n",
    "\n",
    "            # Vérifier si les trois premiers caractères du champ \"code\" sont numériques et compris entre start_code_prefix et end_code_prefix\n",
    "            if code_prefix.isdigit() :\n",
    "                if start_code_prefix <= int(code_prefix, 10) <= end_code_prefix:\n",
    "                    lines_with_code.append(data)"
   ]
  },
  {
   "cell_type": "code",
   "execution_count": null,
   "id": "4adcbff7-661a-40b9-970c-f602ab240fa1",
   "metadata": {},
   "outputs": [],
   "source": [
    "# Plage de valeurs des trois premiers caractères du champ \"code\"\n",
    "start_code_prefix = 300\n",
    "end_code_prefix = 379\n",
    "\n",
    "# Extraction des lignes avec les trois premiers caractères du champ \"code\" compris entre start_code et end_code\n",
    "lines_with_code_range = extract_lines_with_code_range(\n",
    "    filename, \n",
    "    start_code_prefix, \n",
    "    end_code_prefix\n",
    ")\n",
    "\n",
    "# Conversion en DataFrame pandas\n",
    "df = pandas.DataFrame(lines_with_code_range)"
   ]
  },
  {
   "cell_type": "code",
   "execution_count": null,
   "id": "81f025fc-ff35-4a7f-851e-5b60c886c527",
   "metadata": {},
   "outputs": [],
   "source": [
    "df[\"ingredients\"]"
   ]
  },
  {
   "cell_type": "code",
   "execution_count": null,
   "id": "1f34f21d-e4a3-48d1-8063-1063f66b08b6",
   "metadata": {},
   "outputs": [],
   "source": [
    "df[\"ingredients\"].to_string(index=False)"
   ]
  },
  {
   "cell_type": "code",
   "execution_count": null,
   "id": "94ce401b-b0f7-4a0b-b39e-42f47d6482ce",
   "metadata": {},
   "outputs": [],
   "source": [
    "def find_lines_with_code_range_multi_threads(filename, start_code, end_code):\n",
    "    results = {}\n",
    "\n",
    "    def search_code_range(start_code, end_code):\n",
    "        with open(filename, 'r') as file:\n",
    "            for line in file:\n",
    "                # Charger la ligne JSON\n",
    "                data = json.loads(line)\n",
    "\n",
    "                # Récupérer la valeur du champ \"code\"\n",
    "                code_value = data.get('code', '')\n",
    "\n",
    "                # Vérifier si le champ \"code\" commence par une valeur comprise entre start_code et end_code\n",
    "                if code_value.startswith(tuple(str(i) for i in range(start_code, end_code + 1))):\n",
    "                    results[code_value] = data\n",
    "\n",
    "    # Création d'un ThreadPoolExecutor avec 5 threads\n",
    "    with ThreadPoolExecutor(max_workers=20) as executor:\n",
    "        # Lancer les recherches de code sur chaque thread\n",
    "        executor.submit(search_code_range, start_code, end_code)\n",
    "\n",
    "    return results"
   ]
  },
  {
   "cell_type": "code",
   "execution_count": null,
   "id": "6eefed7c-e1ab-4092-a253-15434497b05e",
   "metadata": {},
   "outputs": [],
   "source": [
    "# Plage de valeurs de code à rechercher\n",
    "start_code = 300\n",
    "end_code = 379\n",
    "\n",
    "# Recherche des lignes avec les codes spécifiés\n",
    "lines_with_code_range = find_lines_with_code_range_multi_threads(filename, start_code, end_code)\n",
    "\n",
    "# Affichage des lignes trouvées\n",
    "for code_value, line in lines_with_code_range.items():\n",
    "    print(f\"Ligne avec le code {code_value}: {line}\")"
   ]
  }
 ],
 "metadata": {
  "kernelspec": {
   "display_name": "Python 3 (ipykernel)",
   "language": "python",
   "name": "python3"
  },
  "language_info": {
   "codemirror_mode": {
    "name": "ipython",
    "version": 3
   },
   "file_extension": ".py",
   "mimetype": "text/x-python",
   "name": "python",
   "nbconvert_exporter": "python",
   "pygments_lexer": "ipython3",
   "version": "3.12.2"
  }
 },
 "nbformat": 4,
 "nbformat_minor": 5
}
