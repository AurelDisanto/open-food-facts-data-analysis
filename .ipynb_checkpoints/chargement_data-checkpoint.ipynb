{
 "cells": [
  {
   "cell_type": "code",
   "execution_count": null,
   "id": "6cc43f48-c963-4204-a199-62df43c31991",
   "metadata": {},
   "outputs": [],
   "source": [
    "!pip install pymongo"
   ]
  },
  {
   "cell_type": "code",
   "execution_count": null,
   "id": "fbb80528-b28a-49ca-846a-16b0215f0588",
   "metadata": {},
   "outputs": [],
   "source": [
    "from pymongo import MongoClient\n",
    "import os"
   ]
  },
  {
   "cell_type": "code",
   "execution_count": null,
   "id": "e6d69584-4b99-47f3-a231-b5208121a874",
   "metadata": {},
   "outputs": [],
   "source": [
    "client = MongoClient(os.getenv(\"CONNECTION_STRING_MONGO_DB\"))\n",
    "db = client.defaultdb"
   ]
  },
  {
   "cell_type": "code",
   "execution_count": null,
   "id": "a6281532-b7f5-40ee-9564-df35c50e3b8b",
   "metadata": {},
   "outputs": [],
   "source": [
    "db.products.find()[2]\n"
   ]
  }
 ],
 "metadata": {
  "kernelspec": {
   "display_name": "Python 3 (ipykernel)",
   "language": "python",
   "name": "python3"
  },
  "language_info": {
   "codemirror_mode": {
    "name": "ipython",
    "version": 3
   },
   "file_extension": ".py",
   "mimetype": "text/x-python",
   "name": "python",
   "nbconvert_exporter": "python",
   "pygments_lexer": "ipython3",
   "version": "3.11.6"
  }
 },
 "nbformat": 4,
 "nbformat_minor": 5
}
