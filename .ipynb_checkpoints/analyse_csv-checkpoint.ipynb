{
 "cells": [
  {
   "cell_type": "code",
   "execution_count": null,
   "id": "9129cc96-2103-413f-a6fb-c9da0f62a74a",
   "metadata": {},
   "outputs": [],
   "source": [
    "import csv\n",
    "import pandas"
   ]
  },
  {
   "cell_type": "code",
   "execution_count": null,
   "id": "ad6e6eb4-2d8d-4115-8936-90a585f1f4fa",
   "metadata": {},
   "outputs": [],
   "source": [
    "def extract_first_10_lines_with_header(csv_file):\n",
    "    # Liste pour stocker les lignes extraites\n",
    "    lines = []\n",
    "\n",
    "    # Ouverture du fichier CSV en mode lecture\n",
    "    with open(csv_file, 'r', newline='') as file:\n",
    "        reader = csv.reader(file, delimiter='\\t')\n",
    "\n",
    "        # Extraction de la première ligne (noms de colonne)\n",
    "        header = next(reader)\n",
    "        lines.append(header)\n",
    "\n",
    "        # Lecture des 9 lignes suivantes\n",
    "        for i, row in enumerate(reader):\n",
    "            if i < 9:\n",
    "                lines.append(row)\n",
    "            else:\n",
    "                break\n",
    "\n",
    "    return lines"
   ]
  },
  {
   "cell_type": "code",
   "execution_count": null,
   "id": "582a6c7e-e68f-4412-8ca0-fa072419957a",
   "metadata": {},
   "outputs": [],
   "source": [
    "csv_file = '/home/onyxia/work/en.openfoodfacts.org.products.csv'\n",
    "\n",
    "# Extraction des 10 premières lignes avec le nom des colonnes\n",
    "first_10_lines_with_header = extract_first_10_lines_with_header(csv_file)\n",
    "\n",
    "\n",
    "# Extraction des noms de colonnes et des données\n",
    "columns = first_10_lines_with_header[0]\n",
    "data = first_10_lines_with_header[1:]\n",
    "\n",
    "# Transformation en DataFrame pandas\n",
    "df = pandas.DataFrame(data, columns=columns)\n",
    "\n",
    "print(columns)\n",
    "\n",
    "print(df)"
   ]
  },
  {
   "cell_type": "code",
   "execution_count": null,
   "id": "87317e50-d9ab-4516-b358-66403551d4da",
   "metadata": {},
   "outputs": [],
   "source": [
    "df[\"ingredients_text\"]"
   ]
  },
  {
   "cell_type": "code",
   "execution_count": null,
   "id": "f74598b8-6799-4a9a-9337-a68e6e4d34fa",
   "metadata": {},
   "outputs": [],
   "source": [
    "def extract_filtered_line_with_header(csv_file, code_value):\n",
    "    # Liste pour stocker la ligne filtrée\n",
    "    filtered_line = None\n",
    "\n",
    "    # Ouverture du fichier CSV en mode lecture avec tabulation comme délimiteur\n",
    "    with open(csv_file, 'r', newline='') as file:\n",
    "        reader = csv.reader(file, delimiter='\\t')\n",
    "\n",
    "        # Extraction de la première ligne (noms de colonne)\n",
    "        header = next(reader)\n",
    "\n",
    "        # Parcours des lignes pour trouver celle avec le code recherché\n",
    "        for row in reader:\n",
    "            if row[header.index(\"code\")] == code_value:\n",
    "                filtered_line = [header] + [row]\n",
    "                break\n",
    "\n",
    "    return filtered_line"
   ]
  },
  {
   "cell_type": "code",
   "execution_count": 22,
   "id": "43442d96-36c5-4368-92e1-b13ba3701494",
   "metadata": {},
   "outputs": [
    {
     "name": "stdout",
     "output_type": "stream",
     "text": [
      "            code                                                url  \\\n",
      "0  3272770005708  http://world-en.openfoodfacts.org/product/3272...   \n",
      "\n",
      "      creator   created_t      created_datetime last_modified_t  \\\n",
      "0  agamitsudo  1376127823  2013-08-10T09:43:43Z      1670509982   \n",
      "\n",
      "  last_modified_datetime last_modified_by last_updated_t  \\\n",
      "0   2022-12-08T14:33:02Z          kiliweb     1707544426   \n",
      "\n",
      "  last_updated_datetime  ... glycemic-index_100g water-hardness_100g  \\\n",
      "0  2024-02-10T05:53:46Z  ...                                           \n",
      "\n",
      "  choline_100g phylloquinone_100g beta-glucan_100g inositol_100g  \\\n",
      "0                                                                  \n",
      "\n",
      "  carnitine_100g sulphate_100g nitrate_100g acidity_100g  \n",
      "0                                                         \n",
      "\n",
      "[1 rows x 206 columns]\n"
     ]
    }
   ],
   "source": [
    " # Valeur du code à rechercher\n",
    "code_value = \"3272770005708\"\n",
    "\n",
    "# Extraction de la ligne filtrée avec le nom des colonnes\n",
    "filtered_line_with_header = extract_filtered_line_with_header(csv_file, code_value)\n",
    "\n",
    "if filtered_line_with_header:\n",
    "    # Extraction des noms de colonnes et de la ligne filtrée\n",
    "    columns = filtered_line_with_header[0]\n",
    "    filtered_data = filtered_line_with_header[1]\n",
    "\n",
    "    # Transformation en DataFrame pandas\n",
    "    df = pandas.DataFrame([filtered_data], columns=columns)\n",
    "\n",
    "    # Affichage du DataFrame\n",
    "    print(df)\n",
    "else:\n",
    "    print(\"Aucune ligne trouvée avec le code spécifié.\")"
   ]
  },
  {
   "cell_type": "code",
   "execution_count": null,
   "id": "057c3070-6e54-442f-b09b-9bb89c3419e9",
   "metadata": {},
   "outputs": [],
   "source": [
    "df[\"ingredients_text\"]"
   ]
  }
 ],
 "metadata": {
  "kernelspec": {
   "display_name": "Python 3 (ipykernel)",
   "language": "python",
   "name": "python3"
  },
  "language_info": {
   "codemirror_mode": {
    "name": "ipython",
    "version": 3
   },
   "file_extension": ".py",
   "mimetype": "text/x-python",
   "name": "python",
   "nbconvert_exporter": "python",
   "pygments_lexer": "ipython3",
   "version": "3.12.2"
  }
 },
 "nbformat": 4,
 "nbformat_minor": 5
}
