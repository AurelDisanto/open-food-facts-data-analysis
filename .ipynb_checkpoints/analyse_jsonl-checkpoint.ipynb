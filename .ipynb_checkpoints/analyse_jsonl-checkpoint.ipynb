{
 "cells": [
  {
   "cell_type": "code",
   "execution_count": null,
   "id": "bcf76a3e-c81d-4fec-9ac7-b03ef1b40d3f",
   "metadata": {},
   "outputs": [],
   "source": [
    "import json\n",
    "import pandas\n",
    "import pyarrow"
   ]
  },
  {
   "cell_type": "code",
   "execution_count": null,
   "id": "5ed3c57d-959b-4cff-a7ca-6754ad2e54ff",
   "metadata": {},
   "outputs": [],
   "source": [
    "pandas.set_option('display.max_colwidth', None)"
   ]
  },
  {
   "cell_type": "code",
   "execution_count": null,
   "id": "e0ffd8ab-8ba1-4ffa-8700-2a20bb1d9c3c",
   "metadata": {},
   "outputs": [],
   "source": [
    "# Chemin vers le fichier JSONL\n",
    "filename = '/home/onyxia/work/openfoodfacts-products.jsonl'"
   ]
  },
  {
   "cell_type": "code",
   "execution_count": null,
   "id": "4361dac8-7bfe-4616-aa15-d2b9415a0d06",
   "metadata": {},
   "outputs": [],
   "source": [
    "# Fonction pour afficher de manière jolie les premières lignes du fichier\n",
    "def pretty_print_first_lines(filename, num_lines=3):\n",
    "    with open(filename, 'r') as file:\n",
    "        for i, line in enumerate(file):\n",
    "            if i >= num_lines:\n",
    "                break\n",
    "\n",
    "            # Charger la ligne JSON\n",
    "            data = json.loads(line)\n",
    "\n",
    "            # Afficher le dictionnaire formaté\n",
    "            print(json.dumps(data, indent=4))"
   ]
  },
  {
   "cell_type": "code",
   "execution_count": null,
   "id": "a0969e47-c37f-426b-b80b-9b9d5912a878",
   "metadata": {},
   "outputs": [],
   "source": [
    "# Afficher les 3 premières lignes avec la fonction précédente\n",
    "pretty_print_first_lines(filename)"
   ]
  },
  {
   "cell_type": "code",
   "execution_count": null,
   "id": "f0840671-3285-49cd-ae4c-cacf6633ab90",
   "metadata": {},
   "outputs": [],
   "source": [
    "# Fonction pour extraire les lignes correspondant à une valeur de code donnée\n",
    "def extract_lines_with_code(filename, code_value):\n",
    "    \n",
    "    lines_with_code = []\n",
    "\n",
    "    with open(filename, 'r') as file:\n",
    "        for line in file:\n",
    "            # Charger la ligne JSON\n",
    "            data = json.loads(line)\n",
    "\n",
    "            # Vérifier si le champ \"code\" a la valeur spécifiée\n",
    "            if data.get('code') == code_value:\n",
    "                lines_with_code.append(data)\n",
    "\n",
    "    return lines_with_code"
   ]
  },
  {
   "cell_type": "code",
   "execution_count": null,
   "id": "0dfa6ab7-398e-4d68-9088-de3ef221be8a",
   "metadata": {},
   "outputs": [],
   "source": [
    "# Valeur du champ \"code\" à rechercher avec la fonction précédente\n",
    "code_value = \"3272770005708\"\n",
    "\n",
    "# Extraction des lignes avec le champ \"code\" égal à la valeur spécifiée\n",
    "lines_with_code = extract_lines_with_code(\n",
    "    filename, \n",
    "    code_value\n",
    ")\n",
    "\n",
    "# Conversion en DataFrame pandas\n",
    "df = pandas.DataFrame(lines_with_code)\n",
    "\n",
    "# Affichage des premières lignes du DataFrame\n",
    "print(head(df))"
   ]
  },
  {
   "cell_type": "code",
   "execution_count": null,
   "id": "9752faee-b990-45de-b01a-810f953c06bf",
   "metadata": {},
   "outputs": [],
   "source": [
    "# Fonction pour extraire les lignes correspondant à une valeur de code donnée sachant que code est unique dans le fichier\n",
    "def extract_lines_with_code_optimisee(filename, code_value):\n",
    "    with open(filename, 'r') as file:\n",
    "        for line in file:\n",
    "            # Charger la ligne JSON\n",
    "            data = json.loads(line)\n",
    "\n",
    "            # Vérifier si le champ \"code\" a la valeur spécifiée\n",
    "            if data.get('code') == code_value:\n",
    "                return data  # Retourner la ligne trouvée\n",
    "            elif data.get('code') > code_value:\n",
    "                break  # Arrêter la recherche si le code actuel dépasse la valeur recherchée\n",
    "\n",
    "    return None  # Retourner None si aucune ligne avec le code spécifié n'est trouvée"
   ]
  },
  {
   "cell_type": "code",
   "execution_count": null,
   "id": "a9ceaae6-39fa-4e3b-a183-a73631a7ea44",
   "metadata": {},
   "outputs": [],
   "source": [
    "# Valeur du champ \"code\" à rechercher\n",
    "code_value = \"3272770005708\"\n",
    "\n",
    "# Récupération de la ligne avec le champ \"code\" égal à la valeur spécifiée\n",
    "line_with_code2 = extract_lines_with_code_optimisee(\n",
    "    filename, \n",
    "    code_value\n",
    ")\n",
    "\n",
    "# Conversion en DataFrame pandas\n",
    "df2 = pandas.DataFrame(lines_with_code2)\n",
    "\n",
    "# Affichage des premières lignes du DataFrame\n",
    "print(head(df2))"
   ]
  },
  {
   "cell_type": "code",
   "execution_count": null,
   "id": "bec7e091-e2d4-4a0f-804a-5c11817c927b",
   "metadata": {},
   "outputs": [],
   "source": [
    "# Fonction pour extraire les lignes dont le prefixe du champ code commence par un valeur donnée\n",
    "# et ne retenir que les variables code et ingredients\n",
    "def extract_lines_with_code_starting_with(filename, code_prefix):\n",
    "    lines_with_code = []\n",
    "\n",
    "    with open(filename, 'r') as file:\n",
    "        for line in file:\n",
    "            # Charger la ligne JSON\n",
    "            data = json.loads(line)\n",
    "\n",
    "            # Vérifier si le champ \"code\" commence par la valeur spécifiée\n",
    "            if data.get('code', '').startswith(code_prefix):\n",
    "                # Filtrer et conserver uniquement les champs \"code\" et \"ingredients\"\n",
    "                filtered_data = {'code': code, 'ingredients': data.get('ingredients', [])}\n",
    "                lines_with_code.append(filtered_data)\n",
    "\n",
    "    return lines_with_code"
   ]
  },
  {
   "cell_type": "code",
   "execution_count": null,
   "id": "415d113b-811c-4ad2-be09-a98480fe6fe1",
   "metadata": {},
   "outputs": [],
   "source": [
    "# Préfixe du champ \"code\" à rechercher\n",
    "code_prefix = \"3\"\n",
    "\n",
    "# Extraction des lignes avec le champ \"code\" commençant par le préfixe spécifié\n",
    "lines_with_code3 = extract_lines_with_code_starting_with(\n",
    "    filename, \n",
    "    code_prefix\n",
    ")\n",
    "\n",
    "# Conversion en DataFrame pandas\n",
    "df3 = pandas.DataFrame(lines_with_code3)\n",
    "\n",
    "# Affichage des premières lignes du DataFrame\n",
    "print(head(df3))"
   ]
  },
  {
   "cell_type": "code",
   "execution_count": null,
   "id": "81f92fc0-4cde-4813-b3f1-754489f61432",
   "metadata": {},
   "outputs": [],
   "source": [
    "# Fonction pour extraire les lignes dont le prefixe du champ code commence par une liste de valeurs données\n",
    "# et ne retenir que les variables code et ingredients\n",
    "def filter_lines_with_code_prefix(filename, code_prefixes):\n",
    "    lines_with_code = []\n",
    "\n",
    "    with open(filename, 'r') as file:\n",
    "        for line in file:\n",
    "            # Charger la ligne JSON\n",
    "            data = json.loads(line)\n",
    "\n",
    "            # Récupérer le champ \"code\"\n",
    "            code = data.get('code', '')\n",
    "\n",
    "            # Vérifier si le champ \"code\" commence par l'un des préfixes spécifiés\n",
    "            if any(code.startswith(prefix) for prefix in code_prefixes):\n",
    "                # Filtrer et conserver uniquement les champs \"code\" et \"ingredients\"\n",
    "                filtered_data = {'code': code, 'ingredients': data.get('ingredients', [])}\n",
    "                lines_with_code.append(filtered_data)\n",
    "\n",
    "    return lines_with_code"
   ]
  },
  {
   "cell_type": "code",
   "execution_count": null,
   "id": "7f0dfba3-6b09-41c6-842e-2ad504536b71",
   "metadata": {},
   "outputs": [],
   "source": [
    "# Préfixes des codes à filtrer\n",
    "code_prefixes = ['30', '31', '32', '33', '34', '35', '36', '37']\n",
    "\n",
    "# Filtrage des lignes avec les préfixes de code spécifiés\n",
    "lines_with_code_prefix4 = filter_lines_with_code_prefix(\n",
    "    filename, \n",
    "    code_prefixes\n",
    ")\n",
    "\n",
    "# Conversion en DataFrame pandas\n",
    "df4 = pandas.DataFrame(lines_with_code_prefix4)"
   ]
  },
  {
   "cell_type": "code",
   "execution_count": null,
   "id": "92a6bf76-37f9-4d93-aebc-db3ea3f0b9f8",
   "metadata": {},
   "outputs": [],
   "source": [
    "# Affichage des premières lignes du DataFrame et récupération d'informations sur le DataFrame\n",
    "print(df4.head(10))\n",
    "df4.count()\n",
    "df4.dtypes"
   ]
  },
  {
   "cell_type": "code",
   "execution_count": null,
   "id": "c67909e3-e3aa-47ae-8f58-66769e29c7d7",
   "metadata": {},
   "outputs": [],
   "source": [
    "# Export en local du conteneur dans un fichier csv\n",
    "df4.to_csv(\"/home/onyxia/work/data_interet.csv\", index=False)"
   ]
  },
  {
   "cell_type": "code",
   "execution_count": null,
   "id": "d6615fa0-eb86-49de-897f-5ed249a65140",
   "metadata": {},
   "outputs": [],
   "source": [
    "# Première tentative d'un xport en local du conteneur dans un fichier parquet\n",
    "df4.to_parquet(\"/home/onyxia/work/data_interet.parquet\", index=False, dtype={'ingredients': str})\n",
    "    # erreur lié à certaines valeurs de la variable ingredients"
   ]
  },
  {
   "cell_type": "code",
   "execution_count": null,
   "id": "ffaa31aa-55a9-4140-9543-1e1cae48c20f",
   "metadata": {},
   "outputs": [],
   "source": [
    "# Transformation adéquate pour résoudre l'erreur précédente\n",
    "df4[\"ingredients_transform\"] = df4['ingredients'].astype(str)\n",
    "df4.drop(columns=['ingredients'], inplace=True)"
   ]
  },
  {
   "cell_type": "code",
   "execution_count": null,
   "id": "bdfd07a4-b900-41c9-8734-f88369169e55",
   "metadata": {},
   "outputs": [],
   "source": [
    "# Export en local du conteneur dans un fichier parquet\n",
    "df4.to_parquet(\"/home/onyxia/work/data_interet.parquet\", index=False, dtype={'ingredients': str})"
   ]
  }
 ],
 "metadata": {
  "kernelspec": {
   "display_name": "Python 3 (ipykernel)",
   "language": "python",
   "name": "python3"
  },
  "language_info": {
   "codemirror_mode": {
    "name": "ipython",
    "version": 3
   },
   "file_extension": ".py",
   "mimetype": "text/x-python",
   "name": "python",
   "nbconvert_exporter": "python",
   "pygments_lexer": "ipython3",
   "version": "3.12.2"
  }
 },
 "nbformat": 4,
 "nbformat_minor": 5
}
